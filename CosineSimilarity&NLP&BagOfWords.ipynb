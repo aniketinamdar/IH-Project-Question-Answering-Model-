{
  "nbformat": 4,
  "nbformat_minor": 0,
  "metadata": {
    "colab": {
      "name": "CosineSimilarity&NLP&BagOfWords.ipynb",
      "provenance": [],
      "collapsed_sections": [],
      "authorship_tag": "ABX9TyMpZJGjBms7t9i+263Hz1Jm",
      "include_colab_link": true
    },
    "kernelspec": {
      "name": "python3",
      "display_name": "Python 3"
    },
    "language_info": {
      "name": "python"
    }
  },
  "cells": [
    {
      "cell_type": "markdown",
      "metadata": {
        "id": "view-in-github",
        "colab_type": "text"
      },
      "source": [
        "<a href=\"https://colab.research.google.com/github/aniketinamdar/IH-Project-Question-Answering-Model-/blob/main/CosineSimilarity%26NLP%26BagOfWords.ipynb\" target=\"_parent\"><img src=\"https://colab.research.google.com/assets/colab-badge.svg\" alt=\"Open In Colab\"/></a>"
      ]
    },
    {
      "cell_type": "markdown",
      "source": [
        "##Downloading dependencies and importing libraries"
      ],
      "metadata": {
        "id": "xrO7GhYulj1G"
      }
    },
    {
      "cell_type": "code",
      "source": [
        "import pandas as pd\n",
        "import json\n",
        "import re\n",
        "import gensim \n",
        "from gensim.parsing.preprocessing import remove_stopwords\n",
        "import sklearn\n",
        "from sklearn.metrics.pairwise import cosine_similarity;\n",
        "import numpy\n",
        "from gensim import corpora\n",
        "import pprint"
      ],
      "metadata": {
        "id": "Mwd8NearXUkA"
      },
      "execution_count": null,
      "outputs": []
    },
    {
      "cell_type": "markdown",
      "source": [
        "##Reading json file"
      ],
      "metadata": {
        "id": "DVWSwlj-ltBq"
      }
    },
    {
      "cell_type": "code",
      "source": [
        "# with open(r\"qna.json\",\"r\") as read_file:\n",
        "#   qna = json.load(read_file)\n",
        "df = pd.read_json (r'qna.json')"
      ],
      "metadata": {
        "id": "m3S4sST9bnoO"
      },
      "execution_count": null,
      "outputs": []
    },
    {
      "cell_type": "code",
      "source": [
        "qna"
      ],
      "metadata": {
        "colab": {
          "base_uri": "https://localhost:8080/"
        },
        "id": "XAlxuCJAb4bf",
        "outputId": "a93e4135-c3dd-49a8-a2f7-9ee11032b20c"
      },
      "execution_count": null,
      "outputs": [
        {
          "output_type": "execute_result",
          "data": {
            "text/plain": [
              "{'answer': {'0': 'CGPA is seen on the grade card. The CGPA count can be verified by referring to the passing    criteria    mentioned    in    Exam    Ordinance    2020(https://mitwpu.edu.in/examination/images/documents/Examination Ordinances 2020.pdf)',\n",
              "  '1': ' GPA and CGPA are not mentioned on backlog grade cards. GPA, CGPA will be highlighted on regular trimester grade card only.',\n",
              "  '2': ' Grade card shows first attempt GPA and CGPA only. Hence, even if you have cleared backlog, improved CGPA for that trimester will not be seen on grade card.'},\n",
              " 'question': {'0': 'What if I need to know my correct CGPA?',\n",
              "  '1': 'I have cleared my backlog but the result sheet does not show GPA and CGPA. Why?',\n",
              "  '2': 'I have cleared my backlog, but the result on ERP is not updated .It still shows earlier CGPA.As a result, it is affecting my CGPA of next trimesters also. How do I get it corrected?'}}"
            ]
          },
          "metadata": {},
          "execution_count": 97
        }
      ]
    },
    {
      "cell_type": "markdown",
      "source": [
        "##Converting json file to csv file\n"
      ],
      "metadata": {
        "id": "Xv5gwqdDl20L"
      }
    },
    {
      "cell_type": "code",
      "source": [
        "df.to_csv(r'fina_qna.csv',index=None)"
      ],
      "metadata": {
        "id": "ITSAXmMGdU42"
      },
      "execution_count": null,
      "outputs": []
    },
    {
      "cell_type": "code",
      "source": [
        "df"
      ],
      "metadata": {
        "colab": {
          "base_uri": "https://localhost:8080/",
          "height": 300
        },
        "id": "7F4Tc9Cpf7f9",
        "outputId": "98fc71a7-0287-4e3e-cf75-a7e3ba233ed7"
      },
      "execution_count": null,
      "outputs": [
        {
          "output_type": "execute_result",
          "data": {
            "text/plain": [
              "                                            question  \\\n",
              "0            What if I need to know my correct CGPA?   \n",
              "1  I have cleared my backlog but the result sheet...   \n",
              "2  I have cleared my backlog, but the result on E...   \n",
              "3  What do I do if I have not received my grade c...   \n",
              "4  My name,Father's Name,Mother's name is incorre...   \n",
              "5  How can I get a new copy of corrected grade ca...   \n",
              "6  From where should I collect the corrected grad...   \n",
              "7  In how many days will I get the corrected grad...   \n",
              "\n",
              "                                              answer  \n",
              "0  CGPA is seen on the grade card. The CGPA count...  \n",
              "1   GPA and CGPA are not mentioned on backlog gra...  \n",
              "2   Grade card shows first attempt GPA and CGPA o...  \n",
              "3   Grade cards should be collected from the stud...  \n",
              "4   Name correction on grade cards/PDC needs to b...  \n",
              "5   Once the required corrections are done in ERP...  \n",
              "6   You have to collect the corrected grade cards...  \n",
              "7   Processing of correction on grade cards will ...  "
            ],
            "text/html": [
              "\n",
              "  <div id=\"df-6127e465-2dbd-4d2b-9a7c-3e0ff9cad1c8\">\n",
              "    <div class=\"colab-df-container\">\n",
              "      <div>\n",
              "<style scoped>\n",
              "    .dataframe tbody tr th:only-of-type {\n",
              "        vertical-align: middle;\n",
              "    }\n",
              "\n",
              "    .dataframe tbody tr th {\n",
              "        vertical-align: top;\n",
              "    }\n",
              "\n",
              "    .dataframe thead th {\n",
              "        text-align: right;\n",
              "    }\n",
              "</style>\n",
              "<table border=\"1\" class=\"dataframe\">\n",
              "  <thead>\n",
              "    <tr style=\"text-align: right;\">\n",
              "      <th></th>\n",
              "      <th>question</th>\n",
              "      <th>answer</th>\n",
              "    </tr>\n",
              "  </thead>\n",
              "  <tbody>\n",
              "    <tr>\n",
              "      <th>0</th>\n",
              "      <td>What if I need to know my correct CGPA?</td>\n",
              "      <td>CGPA is seen on the grade card. The CGPA count...</td>\n",
              "    </tr>\n",
              "    <tr>\n",
              "      <th>1</th>\n",
              "      <td>I have cleared my backlog but the result sheet...</td>\n",
              "      <td>GPA and CGPA are not mentioned on backlog gra...</td>\n",
              "    </tr>\n",
              "    <tr>\n",
              "      <th>2</th>\n",
              "      <td>I have cleared my backlog, but the result on E...</td>\n",
              "      <td>Grade card shows first attempt GPA and CGPA o...</td>\n",
              "    </tr>\n",
              "    <tr>\n",
              "      <th>3</th>\n",
              "      <td>What do I do if I have not received my grade c...</td>\n",
              "      <td>Grade cards should be collected from the stud...</td>\n",
              "    </tr>\n",
              "    <tr>\n",
              "      <th>4</th>\n",
              "      <td>My name,Father's Name,Mother's name is incorre...</td>\n",
              "      <td>Name correction on grade cards/PDC needs to b...</td>\n",
              "    </tr>\n",
              "    <tr>\n",
              "      <th>5</th>\n",
              "      <td>How can I get a new copy of corrected grade ca...</td>\n",
              "      <td>Once the required corrections are done in ERP...</td>\n",
              "    </tr>\n",
              "    <tr>\n",
              "      <th>6</th>\n",
              "      <td>From where should I collect the corrected grad...</td>\n",
              "      <td>You have to collect the corrected grade cards...</td>\n",
              "    </tr>\n",
              "    <tr>\n",
              "      <th>7</th>\n",
              "      <td>In how many days will I get the corrected grad...</td>\n",
              "      <td>Processing of correction on grade cards will ...</td>\n",
              "    </tr>\n",
              "  </tbody>\n",
              "</table>\n",
              "</div>\n",
              "      <button class=\"colab-df-convert\" onclick=\"convertToInteractive('df-6127e465-2dbd-4d2b-9a7c-3e0ff9cad1c8')\"\n",
              "              title=\"Convert this dataframe to an interactive table.\"\n",
              "              style=\"display:none;\">\n",
              "        \n",
              "  <svg xmlns=\"http://www.w3.org/2000/svg\" height=\"24px\"viewBox=\"0 0 24 24\"\n",
              "       width=\"24px\">\n",
              "    <path d=\"M0 0h24v24H0V0z\" fill=\"none\"/>\n",
              "    <path d=\"M18.56 5.44l.94 2.06.94-2.06 2.06-.94-2.06-.94-.94-2.06-.94 2.06-2.06.94zm-11 1L8.5 8.5l.94-2.06 2.06-.94-2.06-.94L8.5 2.5l-.94 2.06-2.06.94zm10 10l.94 2.06.94-2.06 2.06-.94-2.06-.94-.94-2.06-.94 2.06-2.06.94z\"/><path d=\"M17.41 7.96l-1.37-1.37c-.4-.4-.92-.59-1.43-.59-.52 0-1.04.2-1.43.59L10.3 9.45l-7.72 7.72c-.78.78-.78 2.05 0 2.83L4 21.41c.39.39.9.59 1.41.59.51 0 1.02-.2 1.41-.59l7.78-7.78 2.81-2.81c.8-.78.8-2.07 0-2.86zM5.41 20L4 18.59l7.72-7.72 1.47 1.35L5.41 20z\"/>\n",
              "  </svg>\n",
              "      </button>\n",
              "      \n",
              "  <style>\n",
              "    .colab-df-container {\n",
              "      display:flex;\n",
              "      flex-wrap:wrap;\n",
              "      gap: 12px;\n",
              "    }\n",
              "\n",
              "    .colab-df-convert {\n",
              "      background-color: #E8F0FE;\n",
              "      border: none;\n",
              "      border-radius: 50%;\n",
              "      cursor: pointer;\n",
              "      display: none;\n",
              "      fill: #1967D2;\n",
              "      height: 32px;\n",
              "      padding: 0 0 0 0;\n",
              "      width: 32px;\n",
              "    }\n",
              "\n",
              "    .colab-df-convert:hover {\n",
              "      background-color: #E2EBFA;\n",
              "      box-shadow: 0px 1px 2px rgba(60, 64, 67, 0.3), 0px 1px 3px 1px rgba(60, 64, 67, 0.15);\n",
              "      fill: #174EA6;\n",
              "    }\n",
              "\n",
              "    [theme=dark] .colab-df-convert {\n",
              "      background-color: #3B4455;\n",
              "      fill: #D2E3FC;\n",
              "    }\n",
              "\n",
              "    [theme=dark] .colab-df-convert:hover {\n",
              "      background-color: #434B5C;\n",
              "      box-shadow: 0px 1px 3px 1px rgba(0, 0, 0, 0.15);\n",
              "      filter: drop-shadow(0px 1px 2px rgba(0, 0, 0, 0.3));\n",
              "      fill: #FFFFFF;\n",
              "    }\n",
              "  </style>\n",
              "\n",
              "      <script>\n",
              "        const buttonEl =\n",
              "          document.querySelector('#df-6127e465-2dbd-4d2b-9a7c-3e0ff9cad1c8 button.colab-df-convert');\n",
              "        buttonEl.style.display =\n",
              "          google.colab.kernel.accessAllowed ? 'block' : 'none';\n",
              "\n",
              "        async function convertToInteractive(key) {\n",
              "          const element = document.querySelector('#df-6127e465-2dbd-4d2b-9a7c-3e0ff9cad1c8');\n",
              "          const dataTable =\n",
              "            await google.colab.kernel.invokeFunction('convertToInteractive',\n",
              "                                                     [key], {});\n",
              "          if (!dataTable) return;\n",
              "\n",
              "          const docLinkHtml = 'Like what you see? Visit the ' +\n",
              "            '<a target=\"_blank\" href=https://colab.research.google.com/notebooks/data_table.ipynb>data table notebook</a>'\n",
              "            + ' to learn more about interactive tables.';\n",
              "          element.innerHTML = '';\n",
              "          dataTable['output_type'] = 'display_data';\n",
              "          await google.colab.output.renderOutput(dataTable, element);\n",
              "          const docLink = document.createElement('div');\n",
              "          docLink.innerHTML = docLinkHtml;\n",
              "          element.appendChild(docLink);\n",
              "        }\n",
              "      </script>\n",
              "    </div>\n",
              "  </div>\n",
              "  "
            ]
          },
          "metadata": {},
          "execution_count": 99
        }
      ]
    },
    {
      "cell_type": "markdown",
      "source": [
        "##Cleaning the data"
      ],
      "metadata": {
        "id": "s4E93Nb9meRr"
      }
    },
    {
      "cell_type": "code",
      "source": [
        "def clean_sentence(sentence, stopwords=False):\n",
        "    \n",
        "    sentence = sentence.lower().strip()\n",
        "    sentence = re.sub(r'[^a-z0-9\\s]', '', sentence)    \n",
        "    if stopwords:\n",
        "         sentence = remove_stopwords(sentence)\n",
        "    \n",
        "    return sentence\n",
        "                    \n",
        "def get_cleaned_sentences(df,stopwords=False):    \n",
        "    sents=df[[\"question\"]];\n",
        "    cleaned_sentences=[]\n",
        "\n",
        "    for index,row in df.iterrows():\n",
        "        cleaned=clean_sentence(row[\"question\"],stopwords);\n",
        "        cleaned_sentences.append(cleaned);\n",
        "    return cleaned_sentences;\n",
        "\n",
        "cleaned_sentences=get_cleaned_sentences(df,stopwords=True)\n",
        "print(cleaned_sentences);\n",
        "\n",
        "print(\"\\n\")\n",
        "\n",
        "cleaned_sentences_with_stopwords=get_cleaned_sentences(df,stopwords=False)\n",
        "print(cleaned_sentences_with_stopwords)"
      ],
      "metadata": {
        "colab": {
          "base_uri": "https://localhost:8080/"
        },
        "id": "nht2GTT2gDY9",
        "outputId": "e2c19a1e-2067-4b70-a518-b6255cc13742"
      },
      "execution_count": null,
      "outputs": [
        {
          "output_type": "stream",
          "name": "stdout",
          "text": [
            "['need know correct cgpa', 'cleared backlog result sheet gpa cgpa', 'cleared backlog result erp updated shows earlier cgpaas result affecting cgpa trimesters corrected', 'received grade card', 'namefathers namemothers incorrect grade card corrected', 'new copy corrected grade cards', 'collect corrected grade cardspdc', 'days corrected grade cards']\n",
            "\n",
            "\n",
            "['what if i need to know my correct cgpa', 'i have cleared my backlog but the result sheet does not show gpa and cgpa why', 'i have cleared my backlog but the result on erp is not updated it still shows earlier cgpaas a result it is affecting my cgpa of next trimesters also how do i get it corrected', 'what do i do if i have not received my grade card', 'my namefathers namemothers name is incorrect on grade card how do i get it corrected', 'how can i get a new copy of corrected grade cards', 'from where should i collect the corrected grade cardspdc', 'in how many days will i get the corrected grade cards']\n"
          ]
        }
      ]
    },
    {
      "cell_type": "code",
      "source": [
        "\n",
        "\n",
        "sentences=cleaned_sentences_with_stopwords\n",
        "sentence_words = [[word for word in document.split() ]\n",
        "         for document in sentences]\n",
        "\n",
        "\n",
        "\n",
        "dictionary = corpora.Dictionary(sentence_words)\n",
        "for key, value in dictionary.items():\n",
        "    print(key, ' : ', value)\n",
        "\n",
        "\n",
        "bow_corpus = [dictionary.doc2bow(text) for text in sentence_words]\n",
        "for sent,embedding in zip(sentences,bow_corpus):\n",
        "    print(sent)\n",
        "    print(embedding)"
      ],
      "metadata": {
        "colab": {
          "base_uri": "https://localhost:8080/"
        },
        "id": "RYF0zsc-gY7e",
        "outputId": "5244775a-af3d-4a71-ed80-342662938066"
      },
      "execution_count": null,
      "outputs": [
        {
          "output_type": "stream",
          "name": "stdout",
          "text": [
            "0  :  cgpa\n",
            "1  :  correct\n",
            "2  :  i\n",
            "3  :  if\n",
            "4  :  know\n",
            "5  :  my\n",
            "6  :  need\n",
            "7  :  to\n",
            "8  :  what\n",
            "9  :  and\n",
            "10  :  backlog\n",
            "11  :  but\n",
            "12  :  cleared\n",
            "13  :  does\n",
            "14  :  gpa\n",
            "15  :  have\n",
            "16  :  not\n",
            "17  :  result\n",
            "18  :  sheet\n",
            "19  :  show\n",
            "20  :  the\n",
            "21  :  why\n",
            "22  :  a\n",
            "23  :  affecting\n",
            "24  :  also\n",
            "25  :  cgpaas\n",
            "26  :  corrected\n",
            "27  :  do\n",
            "28  :  earlier\n",
            "29  :  erp\n",
            "30  :  get\n",
            "31  :  how\n",
            "32  :  is\n",
            "33  :  it\n",
            "34  :  next\n",
            "35  :  of\n",
            "36  :  on\n",
            "37  :  shows\n",
            "38  :  still\n",
            "39  :  trimesters\n",
            "40  :  updated\n",
            "41  :  card\n",
            "42  :  grade\n",
            "43  :  received\n",
            "44  :  incorrect\n",
            "45  :  name\n",
            "46  :  namefathers\n",
            "47  :  namemothers\n",
            "48  :  can\n",
            "49  :  cards\n",
            "50  :  copy\n",
            "51  :  new\n",
            "52  :  cardspdc\n",
            "53  :  collect\n",
            "54  :  from\n",
            "55  :  should\n",
            "56  :  where\n",
            "57  :  days\n",
            "58  :  in\n",
            "59  :  many\n",
            "60  :  will\n",
            "what if i need to know my correct cgpa\n",
            "[(0, 1), (1, 1), (2, 1), (3, 1), (4, 1), (5, 1), (6, 1), (7, 1), (8, 1)]\n",
            "i have cleared my backlog but the result sheet does not show gpa and cgpa why\n",
            "[(0, 1), (2, 1), (5, 1), (9, 1), (10, 1), (11, 1), (12, 1), (13, 1), (14, 1), (15, 1), (16, 1), (17, 1), (18, 1), (19, 1), (20, 1), (21, 1)]\n",
            "i have cleared my backlog but the result on erp is not updated it still shows earlier cgpaas a result it is affecting my cgpa of next trimesters also how do i get it corrected\n",
            "[(0, 1), (2, 2), (5, 2), (10, 1), (11, 1), (12, 1), (15, 1), (16, 1), (17, 2), (20, 1), (22, 1), (23, 1), (24, 1), (25, 1), (26, 1), (27, 1), (28, 1), (29, 1), (30, 1), (31, 1), (32, 2), (33, 3), (34, 1), (35, 1), (36, 1), (37, 1), (38, 1), (39, 1), (40, 1)]\n",
            "what do i do if i have not received my grade card\n",
            "[(2, 2), (3, 1), (5, 1), (8, 1), (15, 1), (16, 1), (27, 2), (41, 1), (42, 1), (43, 1)]\n",
            "my namefathers namemothers name is incorrect on grade card how do i get it corrected\n",
            "[(2, 1), (5, 1), (26, 1), (27, 1), (30, 1), (31, 1), (32, 1), (33, 1), (36, 1), (41, 1), (42, 1), (44, 1), (45, 1), (46, 1), (47, 1)]\n",
            "how can i get a new copy of corrected grade cards\n",
            "[(2, 1), (22, 1), (26, 1), (30, 1), (31, 1), (35, 1), (42, 1), (48, 1), (49, 1), (50, 1), (51, 1)]\n",
            "from where should i collect the corrected grade cardspdc\n",
            "[(2, 1), (20, 1), (26, 1), (42, 1), (52, 1), (53, 1), (54, 1), (55, 1), (56, 1)]\n",
            "in how many days will i get the corrected grade cards\n",
            "[(2, 1), (20, 1), (26, 1), (30, 1), (31, 1), (42, 1), (49, 1), (57, 1), (58, 1), (59, 1), (60, 1)]\n"
          ]
        }
      ]
    },
    {
      "cell_type": "markdown",
      "source": [
        "##Taking input from the user and cleaning the question\n"
      ],
      "metadata": {
        "id": "FqnY4ptGnCC1"
      }
    },
    {
      "cell_type": "code",
      "source": [
        "question_orig=input(\"Enter sentence : \")\n",
        "question=clean_sentence(question_orig,stopwords=False);\n",
        "question_embedding = dictionary.doc2bow(question.split())\n",
        "print(\"\\n\\n\",question,\"\\n\",question_embedding)"
      ],
      "metadata": {
        "id": "wcBjDd4ilDNJ"
      },
      "execution_count": null,
      "outputs": []
    },
    {
      "cell_type": "code",
      "source": [
        "def retrieveAndPrintFAQAnswer(question_embedding,sentence_embeddings,FAQdf,sentences):\n",
        "    max_sim=-1;\n",
        "    index_sim=-1;\n",
        "    for index,faq_embedding in enumerate(sentence_embeddings):\n",
        "        #sim=cosine_similarity(embedding.reshape(1, -1),question_embedding.reshape(1, -1))[0][0];\n",
        "        sim=cosine_similarity(faq_embedding,question_embedding)[0][0];\n",
        "        print(index, sim, sentences[index])\n",
        "        if sim>max_sim:\n",
        "            max_sim=sim;\n",
        "            index_sim=index;\n",
        "       \n",
        "    print(\"\\n\")\n",
        "    print(\"Question: \",question)\n",
        "    print(\"\\n\");\n",
        "    print(\"Do you mean: \",FAQdf.iloc[index_sim,0]) \n",
        "    print(\"Answer : \",FAQdf.iloc[index_sim,1])   \n",
        "    \n",
        "retrieveAndPrintFAQAnswer(question_embedding,bow_corpus,df,sentences)"
      ],
      "metadata": {
        "colab": {
          "base_uri": "https://localhost:8080/"
        },
        "id": "Dm4mIM0sgKdf",
        "outputId": "f350464b-8992-44df-930b-84329254f209"
      },
      "execution_count": null,
      "outputs": [
        {
          "output_type": "stream",
          "name": "stdout",
          "text": [
            "0 0.031234752377721213 what if i need to know my correct cgpa\n",
            "1 0.031234752377721213 i have cleared my backlog but the result sheet does not show gpa and cgpa why\n",
            "2 0.031234752377721213 i have cleared my backlog but the result on erp is not updated it still shows earlier cgpaas a result it is affecting my cgpa of next trimesters also how do i get it corrected\n",
            "3 0.7288480720939872 what do i do if i have not received my grade card\n",
            "4 0.9079593845004517 my namefathers namemothers name is incorrect on grade card how do i get it corrected\n",
            "5 0.9079593845004517 how can i get a new copy of corrected grade cards\n",
            "6 0.9079593845004517 from where should i collect the corrected grade cardspdc\n",
            "7 0.9079593845004517 in how many days will i get the corrected grade cards\n",
            "\n",
            "\n",
            "Question:  name is wrong\n",
            "\n",
            "\n",
            "Do you mean:  My name,Father's Name,Mother's name is incorrect on grade card. How do I get it corrected?\n",
            "Answer :   Name correction on grade cards/PDC needs to be done in ERP at the office of student section of your Department. Kindly contact the office of student section for the making the required corrections in ERP. Moreover, student must check his/her personal details from time to time in their ERP login.\n"
          ]
        }
      ]
    }
  ]
}